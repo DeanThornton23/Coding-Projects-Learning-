{
  "nbformat": 4,
  "nbformat_minor": 0,
  "metadata": {
    "colab": {
      "provenance": [],
      "authorship_tag": "ABX9TyNt7qfyuqn5v0LMvbmN6bGl",
      "include_colab_link": true
    },
    "kernelspec": {
      "name": "python3",
      "display_name": "Python 3"
    },
    "language_info": {
      "name": "python"
    }
  },
  "cells": [
    {
      "cell_type": "markdown",
      "metadata": {
        "id": "view-in-github",
        "colab_type": "text"
      },
      "source": [
        "<a href=\"https://colab.research.google.com/github/DeanThornton23/Coding-Projects-Learning-/blob/Rock%2CPaper%2CScissors_Game/Rock_Paper_Scissors_Game.ipynb\" target=\"_parent\"><img src=\"https://colab.research.google.com/assets/colab-badge.svg\" alt=\"Open In Colab\"/></a>"
      ]
    },
    {
      "cell_type": "code",
      "execution_count": null,
      "metadata": {
        "id": "cC9eBikL_lO9"
      },
      "outputs": [],
      "source": [
        "import random\n",
        "\n",
        "def rock_paper_scissors():\n",
        "    # Define the possible choices\n",
        "    choices = [\"rock\", \"paper\", \"scissors\"]\n",
        "\n",
        "    # Ask the user for their choice\n",
        "    user_choice = input(\"Enter your choice (rock, paper, or scissors): \")\n",
        "\n",
        "    # Convert the user's input to lowercase\n",
        "    user_choice = user_choice.lower()\n",
        "\n",
        "    # Generate a random choice for the computer\n",
        "    computer_choice = random.choice(choices)\n",
        "\n",
        "    # Print the computer's choice\n",
        "    print(f\"Computer chose: {computer_choice}\")\n",
        "\n",
        "    # Determine the winner\n",
        "    if user_choice == computer_choice:\n",
        "        print(\"Tie!\")\n",
        "    elif user_choice == \"rock\" and computer_choice == \"scissors\":\n",
        "        print(\"User wins!\")\n",
        "    elif user_choice == \"paper\" and computer_choice == \"rock\":\n",
        "        print(\"User wins!\")\n",
        "    else:\n",
        "        print(\"Computer wins!\")\n",
        "\n",
        "    # Ask the user if they want to play again\n",
        "    play_again = input(\"Do you want to play again? (y/n): \")\n",
        "\n",
        "    if play_again.lower() == 'y':\n",
        "        rock_paper_scissors()\n",
        "    else:\n",
        "        print(\"Goodbye!\")\n",
        "\n",
        "# Call the function to play the game\n",
        "rock_paper_scissors()"
      ]
    },
    {
      "cell_type": "markdown",
      "source": [
        "Sure! Here's a high-level overview of what's happening in the code:\n",
        "\n",
        "1. The first section of the code defines a function called `rock_paper_scissors` that will play a game of Rock Paper Scissors with the user.\n",
        "2. The function starts by defining a list of the possible choices (rock, paper, scissors) and then asks the user for their choice using `input()`.\n",
        "3. The user's input is then converted to lowercase using the `lower()` method.\n",
        "4. The function then generates a random choice for the computer using `random.choice()`, which selects one of the possible choices randomly.\n",
        "5. The computer's choice is then printed to the user.\n",
        "6. The function then determines the winner of the game. If the user and computer chose the same thing, it's a tie. If the user chose rock and the computer chose scissors, or if the user chose paper and the computer chose rock, the user wins. Otherwise, the computer wins. The appropriate message is printed to the user depending on the outcome.\n",
        "7. Finally, the function asks the user if they want to play again by entering 'y' or 'n'. If the user enters 'y', the function calls itself recursively to play another game. If the user enters 'n', the program prints \"Goodbye!\" and ends.\n",
        "\n",
        "That's a basic overview of what's happening in the code. Let me know if you have any specific questions or if there's anything else I can help with!"
      ],
      "metadata": {
        "id": "ZzXvc9EOBCJV"
      }
    }
  ]
}