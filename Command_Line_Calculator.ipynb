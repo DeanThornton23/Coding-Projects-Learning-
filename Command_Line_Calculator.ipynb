{
  "nbformat": 4,
  "nbformat_minor": 0,
  "metadata": {
    "colab": {
      "provenance": [],
      "authorship_tag": "ABX9TyOBF7eVltpN4DjCaxQtZoPH",
      "include_colab_link": true
    },
    "kernelspec": {
      "name": "python3",
      "display_name": "Python 3"
    },
    "language_info": {
      "name": "python"
    }
  },
  "cells": [
    {
      "cell_type": "markdown",
      "metadata": {
        "id": "view-in-github",
        "colab_type": "text"
      },
      "source": [
        "<a href=\"https://colab.research.google.com/github/DeanThornton23/Coding-Projects-Learning-/blob/Command-Line-Calculator/Command_Line_Calculator.ipynb\" target=\"_parent\"><img src=\"https://colab.research.google.com/assets/colab-badge.svg\" alt=\"Open In Colab\"/></a>"
      ]
    },
    {
      "cell_type": "code",
      "execution_count": null,
      "metadata": {
        "id": "p4duboZe5BsE"
      },
      "outputs": [],
      "source": [
        "def calculate():\n",
        "    operation = input('''\n",
        "Please type in the math operation you would like to complete:\n",
        "+ for addition\n",
        "- for subtraction\n",
        "* for multiplication\n",
        "/ for division\n",
        "''')\n",
        "\n",
        "    number_1 = float(input('Enter your first number: '))\n",
        "    number_2 = float(input('Enter your second number: '))\n",
        "\n",
        "    if operation == '+':\n",
        "        print('{} + {} = '.format(number_1, number_2))\n",
        "        print(number_1 + number_2)\n",
        "\n",
        "    elif operation == '-':\n",
        "        print('{} - {} = '.format(number_1, number_2))\n",
        "        print(number_1 - number_2)\n",
        "\n",
        "    elif operation == '*':\n",
        "        print(number_1 * number_2)\n",
        "\n",
        "    elif operation == '/':\n",
        "        print(number_1 / number_2)\n",
        "\n",
        "    else:\n",
        "        print('You have not typed a valid operator, please run the program again.')\n",
        "\n",
        "calculate()\n"
      ]
    },
    {
      "cell_type": "markdown",
      "source": [
        "Sure! Here's a high-level overview of what's happening in the code:\n",
        "\n",
        "1. The first line defines a function called `calculate`.\n",
        "2. The function starts by prompting the user to enter a math operation (+, -, \\*, /) using `input()`.\n",
        "3. The user's input is then stored in a variable called `operation`.\n",
        "4. The function then prompts the user to enter two numbers using `input()` and stores them in variables `number_1` and `number_2`.\n",
        "5. The function then checks the value of `operation` and performs the corresponding operation:\n",
        "\t* If `operation` is '+', the function prints the sum of `number_1` and `number_2`.\n",
        "\t* If `operation` is '-', the function prints the difference of `number_1` and `number_2`.\n",
        "\t* If `operation` is '*', the function prints the product of `number_1` and `number_2`.\n",
        "\t* If `operation` is '/', the function prints the result of dividing `number_1` by `number_2`.\n",
        "6. If the user enters an invalid operator, the function prints an error message and ends.\n",
        "\n",
        "In summary, this code defines a function that takes in two numbers and a math operation, and then performs the corresponding operation based on the user's input. The function then prints the result of the operation to the console."
      ],
      "metadata": {
        "id": "CWz32zJkB8AV"
      }
    }
  ]
}